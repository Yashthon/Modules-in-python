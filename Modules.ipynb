{
  "nbformat": 4,
  "nbformat_minor": 0,
  "metadata": {
    "colab": {
      "name": "Modules.ipynb",
      "provenance": [],
      "authorship_tag": "ABX9TyOj9KEmS+w6rIgMyoOBYT3v",
      "include_colab_link": true
    },
    "kernelspec": {
      "name": "python3",
      "display_name": "Python 3"
    },
    "language_info": {
      "name": "python"
    }
  },
  "cells": [
    {
      "cell_type": "markdown",
      "metadata": {
        "id": "view-in-github",
        "colab_type": "text"
      },
      "source": [
        "<a href=\"https://colab.research.google.com/github/Yashthon/Modules-in-python/blob/main/Modules.ipynb\" target=\"_parent\"><img src=\"https://colab.research.google.com/assets/colab-badge.svg\" alt=\"Open In Colab\"/></a>"
      ]
    },
    {
      "cell_type": "markdown",
      "source": [
        "# III."
      ],
      "metadata": {
        "id": "x6IYwbqX385J"
      }
    },
    {
      "cell_type": "markdown",
      "source": [
        "All the imported libraries"
      ],
      "metadata": {
        "id": "HCu_VLfHSG-s"
      }
    },
    {
      "cell_type": "code",
      "execution_count": 33,
      "metadata": {
        "id": "6w0temUlzdrW"
      },
      "outputs": [],
      "source": [
        "from itertools import permutations\n",
        "import timeit\n",
        "from random import shuffle\n",
        "import zlib\n",
        "import re\n",
        "import math\n",
        "import os, time\n",
        "import urllib\n",
        "import sys"
      ]
    },
    {
      "cell_type": "markdown",
      "source": [
        "1. Write a program which prints all permutations of [1,2,3,4,5,6,7,8,9]\n",
        "Use itertools module\n"
      ],
      "metadata": {
        "id": "h1fSsb0rSEuE"
      }
    },
    {
      "cell_type": "code",
      "source": [
        "a = permutations([1,2,3],3)\n",
        "for i in a:\n",
        "  print(i)"
      ],
      "metadata": {
        "colab": {
          "base_uri": "https://localhost:8080/"
        },
        "id": "1vvh3_Pu6I9t",
        "outputId": "7ddfc6ea-4464-4ed5-9c70-293ba91b03ca"
      },
      "execution_count": null,
      "outputs": [
        {
          "output_type": "stream",
          "name": "stdout",
          "text": [
            "(1, 2, 3)\n",
            "(1, 3, 2)\n",
            "(2, 1, 3)\n",
            "(2, 3, 1)\n",
            "(3, 1, 2)\n",
            "(3, 2, 1)\n"
          ]
        }
      ]
    },
    {
      "cell_type": "markdown",
      "source": [
        "2. Write a program to shuffle and print the list of 10 numbers. Use random\n",
        "module"
      ],
      "metadata": {
        "id": "fGZnVjjhSA71"
      }
    },
    {
      "cell_type": "code",
      "source": [
        "li = [1,2,3,4,5,6,7,8,9,10]\n",
        "shuffle(li)\n",
        "print(li)"
      ],
      "metadata": {
        "colab": {
          "base_uri": "https://localhost:8080/"
        },
        "id": "lhyaeHI36YGN",
        "outputId": "08844d7f-7cab-4815-c131-fcb6920f862d"
      },
      "execution_count": null,
      "outputs": [
        {
          "output_type": "stream",
          "name": "stdout",
          "text": [
            "[5, 2, 9, 4, 1, 3, 8, 6, 7, 10]\n"
          ]
        }
      ]
    },
    {
      "cell_type": "markdown",
      "source": [
        "3. Write a program to print the running time of execution of “1+1” for 100\n",
        "times. Use timeit"
      ],
      "metadata": {
        "id": "IyR11n7VR6Ay"
      }
    },
    {
      "cell_type": "code",
      "source": [
        "a = timeit.timeit(\"for i in range (100):+1\")\n",
        "print(a)"
      ],
      "metadata": {
        "colab": {
          "base_uri": "https://localhost:8080/"
        },
        "id": "sNHAK2h--OPG",
        "outputId": "67c346e1-c90e-4858-8f59-2b70633784ea"
      },
      "execution_count": null,
      "outputs": [
        {
          "output_type": "stream",
          "name": "stdout",
          "text": [
            "1.6365200600002936\n"
          ]
        }
      ]
    },
    {
      "cell_type": "markdown",
      "source": [
        "4. Write a program to compress and decompress a user inputted string. Use\n",
        "zlib"
      ],
      "metadata": {
        "id": "6BDCFB9JRy84"
      }
    },
    {
      "cell_type": "code",
      "source": [
        "s = b'Hellow world'\n",
        "   \n",
        "t = zlib.compress(s)\n",
        "print(\"Compressed String\")\n",
        "print(t)\n",
        "  \n",
        "print(\"\\nDecompressed String\")\n",
        "print(zlib.decompress(t))"
      ],
      "metadata": {
        "colab": {
          "base_uri": "https://localhost:8080/"
        },
        "id": "4RxLiB2z_9JL",
        "outputId": "615335e3-8d13-40b7-a751-32fb2a662f3d"
      },
      "execution_count": null,
      "outputs": [
        {
          "output_type": "stream",
          "name": "stdout",
          "text": [
            "Compressed String\n",
            "b'x\\x9c\\xf3H\\xcd\\xc9\\xc9/W(\\xcf/\\xcaI\\x01\\x00\\x1d\\xe1\\x04\\xb4'\n",
            "\n",
            "Decompressed String\n",
            "b'Hellow world'\n"
          ]
        }
      ]
    },
    {
      "cell_type": "markdown",
      "source": [
        "5. A website requires the users to input username and password to register.\n",
        "Write a program to check the validity of password input by users.\n",
        "Following are the criteria for checking the password:\n",
        "1. At least 1 letter between [a-z]\n",
        "2. At least 1 number between [0-9]\n",
        "3. At least 1 letter between [A-Z]\n",
        "4\n",
        ". At least 1 character from [$#@]\n",
        "\n",
        "5. Minimum length of transaction password: 6\n",
        "6. Maximum length of transaction password: 12\n",
        "Your program should accept a sequence of comma separated passwords\n",
        "and must check them according to the above criteria. Passwords that\n",
        "match the criteria are to be printed, each separated by a comma. Use “re”"
      ],
      "metadata": {
        "id": "A_5xLsJ2Rvq2"
      }
    },
    {
      "cell_type": "code",
      "source": [
        "user_input = input(\"Enter username here \")\n",
        "passwords = input(\"Enter password \")\n",
        "passwords = user_input.split(',')\n",
        "valid = []\n",
        "\n",
        "for x in passwords:\n",
        "  if (len(x) > 12 or len(x)<6):\n",
        "    continue\n",
        "\n",
        "  elif not re.search(\"([Aa-Zz])+\", x):\n",
        "    continue\n",
        "\n",
        "  elif not re.search(\"([0-9])+\", x):\n",
        "    continue\n",
        "\n",
        "  elif not re.search(\"([$#@])+\", x):\n",
        "    continue\n",
        "\n",
        "  else:\n",
        "    valid.append(x)\n",
        "\n",
        "print((\" \").join(valid))"
      ],
      "metadata": {
        "id": "8ffuS54MD2n5",
        "colab": {
          "base_uri": "https://localhost:8080/"
        },
        "outputId": "30049e64-20be-4315-ea43-72eb8d9cb374"
      },
      "execution_count": 7,
      "outputs": [
        {
          "output_type": "stream",
          "name": "stdout",
          "text": [
            "Enter username here Yash\n",
            "Enter password Yash@123\n",
            "\n"
          ]
        }
      ]
    },
    {
      "cell_type": "markdown",
      "source": [
        "6. A robot moves in a plane starting from the original point (0,0). The robot can\n",
        "move toward UP, DOWN, LEFT and RIGHT with a given steps. The trace of\n",
        "robot movement is shown as the following:\n",
        "UP 5\n",
        "DOWN 3\n",
        "LEFT 3\n",
        "RIGHT 2\n",
        "The numbers after the direction are steps. Write a program to compute the\n",
        "distance from the current position after a sequence of movement and original\n",
        "point. If the distance is a float then just print the nearest integer. Use “math”"
      ],
      "metadata": {
        "id": "1IKgK-SKRoNA"
      }
    },
    {
      "cell_type": "code",
      "source": [
        "x, y = 0, 0\n",
        "\n",
        "while True:\n",
        "    step = input(\"Type in UP/DOWN/LEFT/RIGHT #step number: \")\n",
        "\n",
        "    if step == \"\":\n",
        "        break\n",
        "\n",
        "    else:\n",
        "        step = step.split(\" \")\n",
        "\n",
        "        if step[0] == \"UP\":\n",
        "            y = y + int(step[1])\n",
        "        elif step[0] == \"DOWN\":\n",
        "            y = y - int(step[1])\n",
        "        elif step[0] == \"LEFT\":\n",
        "            x = x - int(step[1])\n",
        "        elif step[0] == \"RIGHT\":\n",
        "            x = x + int(step[1])\n",
        "\n",
        "c = math.sqrt(x**2 + y**2)\n",
        "\n",
        "print(\"Distance:\", c)"
      ],
      "metadata": {
        "colab": {
          "base_uri": "https://localhost:8080/"
        },
        "id": "9zqlZSmyNQ-h",
        "outputId": "e194479e-ebdb-4c24-97a2-68e05b1b23f6"
      },
      "execution_count": 3,
      "outputs": [
        {
          "output_type": "stream",
          "name": "stdout",
          "text": [
            "Type in UP/DOWN/LEFT/RIGHT #step number: 1\n",
            "Type in UP/DOWN/LEFT/RIGHT #step number: 3\n",
            "Type in UP/DOWN/LEFT/RIGHT #step number: 8\n",
            "Type in UP/DOWN/LEFT/RIGHT #step number: 4\n",
            "Type in UP/DOWN/LEFT/RIGHT #step number: 2\n",
            "Type in UP/DOWN/LEFT/RIGHT #step number: 6\n",
            "Type in UP/DOWN/LEFT/RIGHT #step number: 5\n",
            "Type in UP/DOWN/LEFT/RIGHT #step number: 1\n",
            "Type in UP/DOWN/LEFT/RIGHT #step number: \n",
            "Distance: 0.0\n"
          ]
        }
      ]
    },
    {
      "cell_type": "markdown",
      "source": [
        "7. Write a program to list all files in the given directory. Use os or os.path"
      ],
      "metadata": {
        "id": "sEary0IlVbk7"
      }
    },
    {
      "cell_type": "code",
      "source": [
        "path=\"/content\"\n",
        "files_list=os.listdir(path)\n",
        "print(\"List of files: \")\n",
        "print(files_list)"
      ],
      "metadata": {
        "colab": {
          "base_uri": "https://localhost:8080/"
        },
        "id": "GG_6dsXTTSks",
        "outputId": "9ee9da02-0211-4a0a-9f23-9e05a791b857"
      },
      "execution_count": 5,
      "outputs": [
        {
          "output_type": "stream",
          "name": "stdout",
          "text": [
            "List of files: \n",
            "['.config', 'sample_data']\n"
          ]
        }
      ]
    },
    {
      "cell_type": "markdown",
      "source": [
        "8. Write a program to count number of files for each extension in the given\n",
        "directory. The program should take a directory name as argument and print\n",
        "count and extension for each available file extension. Use os or os.path"
      ],
      "metadata": {
        "id": "nZWHxJVgVsb8"
      }
    },
    {
      "cell_type": "code",
      "source": [
        "extension=input(\"Enter extension\")\n",
        "cnt=0\n",
        "for file in os.listdir(\"/content\"):\n",
        "    if file.endswith(extension):\n",
        "        cnt+=1\n",
        "print(cnt)"
      ],
      "metadata": {
        "colab": {
          "base_uri": "https://localhost:8080/"
        },
        "id": "-J-AqjHIVmef",
        "outputId": "6781a443-78bc-46ca-9567-d846accc726f"
      },
      "execution_count": 9,
      "outputs": [
        {
          "output_type": "stream",
          "name": "stdout",
          "text": [
            "Enter extension.ipynb\n",
            "0\n"
          ]
        }
      ]
    },
    {
      "cell_type": "markdown",
      "source": [
        "9. Write a program to list all the files in the given directory along with their\n",
        "length and last modification time. The output should contain one line for each\n",
        "file containing filename, length and modification date separated by tabs. Use\n",
        "os.stat"
      ],
      "metadata": {
        "id": "8XspgDU7WIh7"
      }
    },
    {
      "cell_type": "code",
      "source": [
        "def get_information(directory):\n",
        "    file_list = []\n",
        "    for i in os.listdir(directory):\n",
        "        a = os.stat(os.path.join(directory,i))\n",
        "        file_list.append([i,time.ctime(a.st_atime),time.ctime(a.st_ctime)]) #[file,most_recent_access,created]\n",
        "    return file_list\n",
        "\n",
        "print(get_information(\"/content\"))"
      ],
      "metadata": {
        "colab": {
          "base_uri": "https://localhost:8080/"
        },
        "id": "4Wd8tt0SVwlP",
        "outputId": "4ce73dd3-fa52-4ed9-e19b-f3d851a9b4fa"
      },
      "execution_count": 11,
      "outputs": [
        {
          "output_type": "stream",
          "name": "stdout",
          "text": [
            "[['.config', 'Tue Dec 21 15:10:28 2021', 'Tue Dec 21 15:10:28 2021'], ['sample_data', 'Tue Dec 21 15:11:06 2021', 'Tue Dec 21 15:11:06 2021']]\n"
          ]
        }
      ]
    },
    {
      "cell_type": "markdown",
      "source": [
        "10. Write a program to download a given URL. The program should accept a\n",
        "URL as argument, download it and save it with the basename of the URL. If the\n",
        "URL ends with a /, consider the basename as index.html. Use urllib"
      ],
      "metadata": {
        "id": "MuwIzCtvWXx3"
      }
    },
    {
      "cell_type": "code",
      "source": [
        "def wget(x):\n",
        "\tr=urllib.urlopen(x)\n",
        "\tcont=r.read()\n",
        "\tname=x.split('/')\n",
        "\tn=name[-1]\n",
        "\tif n=='':\n",
        "\t\tn='index.html'\n",
        "\tf=open(n,'w')\n",
        "\tf.write(cont)\n",
        "wget(sys.argv[1])\n",
        "# urllib is supported in Python 2\n"
      ],
      "metadata": {
        "colab": {
          "base_uri": "https://localhost:8080/",
          "height": 321
        },
        "id": "h4ZUhn00WTGw",
        "outputId": "3fb70cb5-2407-483d-996c-b86e45316d2a"
      },
      "execution_count": 32,
      "outputs": [
        {
          "output_type": "error",
          "ename": "AttributeError",
          "evalue": "ignored",
          "traceback": [
            "\u001b[0;31m---------------------------------------------------------------------------\u001b[0m",
            "\u001b[0;31mAttributeError\u001b[0m                            Traceback (most recent call last)",
            "\u001b[0;32m<ipython-input-32-dac0b369a3c7>\u001b[0m in \u001b[0;36m<module>\u001b[0;34m()\u001b[0m\n\u001b[1;32m      8\u001b[0m         \u001b[0mf\u001b[0m\u001b[0;34m=\u001b[0m\u001b[0mopen\u001b[0m\u001b[0;34m(\u001b[0m\u001b[0mn\u001b[0m\u001b[0;34m,\u001b[0m\u001b[0;34m'w'\u001b[0m\u001b[0;34m)\u001b[0m\u001b[0;34m\u001b[0m\u001b[0;34m\u001b[0m\u001b[0m\n\u001b[1;32m      9\u001b[0m         \u001b[0mf\u001b[0m\u001b[0;34m.\u001b[0m\u001b[0mwrite\u001b[0m\u001b[0;34m(\u001b[0m\u001b[0mcont\u001b[0m\u001b[0;34m)\u001b[0m\u001b[0;34m\u001b[0m\u001b[0;34m\u001b[0m\u001b[0m\n\u001b[0;32m---> 10\u001b[0;31m \u001b[0mwget\u001b[0m\u001b[0;34m(\u001b[0m\u001b[0msys\u001b[0m\u001b[0;34m.\u001b[0m\u001b[0margv\u001b[0m\u001b[0;34m[\u001b[0m\u001b[0;36m1\u001b[0m\u001b[0;34m]\u001b[0m\u001b[0;34m)\u001b[0m\u001b[0;34m\u001b[0m\u001b[0;34m\u001b[0m\u001b[0m\n\u001b[0m",
            "\u001b[0;32m<ipython-input-32-dac0b369a3c7>\u001b[0m in \u001b[0;36mwget\u001b[0;34m(x)\u001b[0m\n\u001b[1;32m      1\u001b[0m \u001b[0;32mdef\u001b[0m \u001b[0mwget\u001b[0m\u001b[0;34m(\u001b[0m\u001b[0mx\u001b[0m\u001b[0;34m)\u001b[0m\u001b[0;34m:\u001b[0m\u001b[0;34m\u001b[0m\u001b[0;34m\u001b[0m\u001b[0m\n\u001b[0;32m----> 2\u001b[0;31m         \u001b[0mr\u001b[0m\u001b[0;34m=\u001b[0m\u001b[0murllib\u001b[0m\u001b[0;34m.\u001b[0m\u001b[0murlopen\u001b[0m\u001b[0;34m(\u001b[0m\u001b[0mx\u001b[0m\u001b[0;34m)\u001b[0m\u001b[0;34m\u001b[0m\u001b[0;34m\u001b[0m\u001b[0m\n\u001b[0m\u001b[1;32m      3\u001b[0m         \u001b[0mcont\u001b[0m\u001b[0;34m=\u001b[0m\u001b[0mr\u001b[0m\u001b[0;34m.\u001b[0m\u001b[0mread\u001b[0m\u001b[0;34m(\u001b[0m\u001b[0;34m)\u001b[0m\u001b[0;34m\u001b[0m\u001b[0;34m\u001b[0m\u001b[0m\n\u001b[1;32m      4\u001b[0m         \u001b[0mname\u001b[0m\u001b[0;34m=\u001b[0m\u001b[0mx\u001b[0m\u001b[0;34m.\u001b[0m\u001b[0msplit\u001b[0m\u001b[0;34m(\u001b[0m\u001b[0;34m'/'\u001b[0m\u001b[0;34m)\u001b[0m\u001b[0;34m\u001b[0m\u001b[0;34m\u001b[0m\u001b[0m\n\u001b[1;32m      5\u001b[0m         \u001b[0mn\u001b[0m\u001b[0;34m=\u001b[0m\u001b[0mname\u001b[0m\u001b[0;34m[\u001b[0m\u001b[0;34m-\u001b[0m\u001b[0;36m1\u001b[0m\u001b[0;34m]\u001b[0m\u001b[0;34m\u001b[0m\u001b[0;34m\u001b[0m\u001b[0m\n",
            "\u001b[0;31mAttributeError\u001b[0m: module 'urllib' has no attribute 'urlopen'"
          ]
        }
      ]
    },
    {
      "cell_type": "code",
      "source": [
        ""
      ],
      "metadata": {
        "id": "ntZdbpmaXVC1"
      },
      "execution_count": null,
      "outputs": []
    }
  ]
}